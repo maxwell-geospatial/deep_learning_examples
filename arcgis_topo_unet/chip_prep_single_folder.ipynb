{
 "cells": [
  {
   "cell_type": "code",
   "execution_count": 1,
   "metadata": {},
   "outputs": [],
   "source": [
    "#Read in libraries/extensions\n",
    "import arcpy\n",
    "arcpy.CheckOutExtension(\"ImageAnalyst\")\n",
    "arcpy.env.overwriteOutput = True\n",
    "from arcpy.ia import *\n",
    "from arcpy import env\n",
    "from arcpy.sa import *\n",
    "import os"
   ]
  },
  {
   "cell_type": "code",
   "execution_count": 2,
   "metadata": {},
   "outputs": [
    {
     "name": "stdout",
     "output_type": "stream",
     "text": [
      "['KY_Adams_708051_1971_24000_geo.tif', 'KY_Ano_708081_1979_24000_geo.tif', 'KY_Argillite_708084_1972_24000_geo.tif', 'KY_Artemus_708079_1974_24000_geo.tif', 'KY_Ault_708101_1962_24000_geo.tif', 'KY_Balkan_803302_1974_24000_geo.tif', 'KY_Barbourville_708122_1974_24000_geo.tif', 'KY_Barcreek_708125_1979_24000_geo.tif', 'KY_Barthell_803308_1954_24000_geo.tif', 'KY_Beattyville_708136_1961_24000_geo.tif', 'KY_Belfry_708145_1992_24000_geo.tif', 'KY_Belfry_708147_1978_24000_geo.tif', 'KY_Bernstadt_708158_1969_24000_geo.tif', 'KY_Beverly_708161_1979_24000_geo.tif', 'KY_Billows_708177_1952_24000_geo.tif', 'KY_Blackey_708183_1954_24000_geo.tif', 'KY_Blackwater_708188_1979_24000_geo.tif', 'KY_Blaine_708191_1953_24000_geo.tif', 'KY_Bledsoe_708195_1980_24000_geo.tif', 'KY_Boltsfork_708203_1971_24000_geo.tif', 'KY_Booneville_708207_1961_24000_geo.tif', 'KY_Booneville_708209_1961_24000_geo.tif', 'KY_Brushart_708255_1949_24000_geo.tif', 'KY_Buckhorn_708264_1961_24000_geo.tif', 'KY_Buckhorn_708265_1979_24000_geo.tif', 'KY_Burnside_708284_1965_24000_geo.tif', 'KY_Burnside_708285_1965_24000_geo.tif', 'KY_Campton_708316_1961_24000_geo.tif', 'KY_Coopersville_708429_1954_24000_geo.tif', 'KY_Corbin_708431_1970_24000_geo.tif', 'KY_Corbin_708432_1970_24000_geo.tif', 'KY_Corbin_708433_1961_24000_geo.tif', 'KY_Cowcreek_708447_1961_24000_geo.tif', 'KY_Creekville_708458_1979_24000_geo.tif', 'KY_Cutshin_708490_1980_24000_geo.tif', 'KY_Dingus_708537_1962_24000_geo.tif', 'KY_Dingus_803464_1962_24000_geo.tif', 'KY_Dorton_708541_1992_24000_geo.tif', 'KY_Dorton_708542_1954_24000_geo.tif', 'KY_Dykes_708564_1979_24000_geo.tif', 'KY_Fount_803532_1974_24000_geo.tif', 'KY_Grahn_708755_1970_24000_geo.tif', 'KY_Grahn_708756_1962_24000_geo.tif', 'KY_Grahn_708758_1970_24000_geo.tif', 'KY_Grayson_708765_1971_24000_geo.tif', 'KY_Grayson_708766_1971_24000_geo.tif', 'KY_Guage_708787_1951_24000_geo.tif', 'KY_Haddix_708794_1972_24000_geo.tif', 'KY_Hail_708798_1963_24000_geo.tif', 'KY_Hail_708800_1963_24000_geo.tif', 'KY_Harlan_708826_1954_24000_geo.tif', 'KY_Harold_803599_1979_24000_geo.tif', 'KY_Heidrick_803611_1974_24000_geo.tif', 'KY_Helton_708869_1974_24000_geo.tif', 'KY_Hima_708900_1979_24000_geo.tif', 'KY_Hollyhill_708914_1979_24000_geo.tif', 'KY_Hoskinston_708929_1980_24000_geo.tif', 'KY_Isonville_708965_1962_24000_geo.tif', 'KY_Jackson_708972_1961_24000_geo.tif', 'KY_Johnetta_708992_1953_24000_geo.tif', 'KY_Kayjay_709002_1959_24000_geo.tif', 'KY_Kite_709027_1954_24000_geo.tif', 'KY_Kite_709028_1954_24000_geo.tif', 'KY_Krypton_709035_1972_24000_geo.tif', 'KY_Krypton_709037_1961_24000_geo.tif', 'KY_Lancer_709057_1978_24000_geo.tif', 'KY_Landsaw_709058_1971_24000_geo.tif', 'KY_Landsaw_709060_1951_24000_geo.tif', 'KY_Lenox_709088_1977_24000_geo.tif', 'KY_Lily_709119_1970_24000_geo.tif', 'KY_Lily_709120_1961_24000_geo.tif', 'KY_Livingston_803713_1969_24000_geo.tif', 'KY_Load_709135_1953_24000_geo.tif', 'KY_London_709141_1969_24000_geo.tif', 'KY_Louellen_709149_1954_24000_geo.tif', 'KY_Manchester_709218_1979_24000_geo.tif', 'KY_Martin_709229_1954_24000_geo.tif', 'KY_Maulden_803767_1979_24000_geo.tif', 'KY_Mayking_709246_1954_24000_geo.tif', 'KY_Mazie_709258_1953_24000_geo.tif', 'KY_Meta_709277_1978_24000_geo.tif', 'KY_Millard_709293_1978_24000_geo.tif', 'KY_Mistletoe_709309_1979_24000_geo.tif', 'KY_Morehead_709328_1970_24000_geo.tif', 'KY_Nevelsville_709366_1954_24000_geo.tif', 'KY_Nolansburg_709408_1954_24000_geo.tif', 'KY_Offutt_709431_1954_24000_geo.tif', 'KY_Ogle_709433_1979_24000_geo.tif', 'KY_Oldtown_709440_1953_24000_geo.tif', 'KY_Oneida_709453_1979_24000_geo.tif', 'KY_Paintsville_709486_1992_24000_geo.tif', 'KY_Paintsville_709490_1962_24000_geo.tif', 'KY_Pikeville_709531_1978_24000_geo.tif', 'KY_Pineville_709535_1974_24000_geo.tif', 'KY_Portersburg_709559_1979_24000_geo.tif', 'KY_Prestonsburg_709573_1978_24000_geo.tif', 'KY_Redbush_709598_1962_24000_geo.tif', 'KY_Richardson_709613_1971_24000_geo.tif', 'KY_Richardson_709614_1971_24000_geo.tif', 'KY_Rush_709650_1971_24000_geo.tif', 'KY_Rush_709651_1971_24000_geo.tif', 'KY_Saxton_709705_1970_24000_geo.tif', 'KY_Saxton_709706_1970_24000_geo.tif', 'KY_Scalf_709708_1979_24000_geo.tif', 'KY_Seitz_709723_1965_24000_geo.tif', 'KY_Shopville_709747_1952_24000_geo.tif', 'KY_Sitka_709756_1971_24000_geo.tif', 'KY_Thomas_709858_1954_24000_geo.tif', 'KY_Tiptop_709862_1951_24000_geo.tif', 'KY_Varney_709917_1954_24000_geo.tif', 'KY_Vicco_804064_1954_24000_geo.tif', 'KY_Vox_709945_1979_24000_geo.tif', 'KY_Wayland_709974_1954_24000_geo.tif', 'KY_Webbville_709977_1953_24000_geo.tif', 'KY_Wheelwright_709992_1954_24000_geo.tif', 'KY_Wiborg_710006_1963_24000_geo.tif', 'KY_Willard_710015_1970_24000_geo.tif', 'KY_Williamsburg_710018_1969_24000_geo.tif', 'KY_Williamsburg_710019_1969_24000_geo.tif', 'KY_Wofford_710039_1969_24000_geo.tif', 'KY_Wofford_710041_1969_24000_geo.tif', 'KY_Wrigley_710054_1977_24000_geo.tif']\n"
     ]
    }
   ],
   "source": [
    "#Define input folders\n",
    "in_fold = \"C:/Maxwell_Data/topo_data/topo_dl_data/topo_dl_data/\"\n",
    "in_toposF = \"ky_topos/\"\n",
    "in_minesF = \"ky_mines/\"\n",
    "in_quadsF = \"ky_quads/\"\n",
    "chips_outF = in_fold + \"processing/ky_chips4/\"\n",
    "to_8bitF = in_fold + \"processing/ky_topo8bit4/\"\n",
    "\n",
    "#Create new directories\n",
    "os.mkdir(chips_outF)\n",
    "os.mkdir(to_8bitF)\n",
    "\n",
    "#List all topo maps\n",
    "arcpy.env.workspace =  in_fold + in_toposF\n",
    "chips = arcpy.ListRasters()\n",
    "print(chips)"
   ]
  },
  {
   "cell_type": "code",
   "execution_count": 3,
   "metadata": {},
   "outputs": [
    {
     "name": "stdout",
     "output_type": "stream",
     "text": [
      "['KY_Adams_708051_1971_24000_geo', 'KY_Ano_708081_1979_24000_geo', 'KY_Argillite_708084_1972_24000_geo', 'KY_Artemus_708079_1974_24000_geo', 'KY_Ault_708101_1962_24000_geo', 'KY_Balkan_803302_1974_24000_geo', 'KY_Barbourville_708122_1974_24000_geo', 'KY_Barcreek_708125_1979_24000_geo', 'KY_Barthell_803308_1954_24000_geo', 'KY_Beattyville_708136_1961_24000_geo', 'KY_Belfry_708145_1992_24000_geo', 'KY_Belfry_708147_1978_24000_geo', 'KY_Bernstadt_708158_1969_24000_geo', 'KY_Beverly_708161_1979_24000_geo', 'KY_Billows_708177_1952_24000_geo', 'KY_Blackey_708183_1954_24000_geo', 'KY_Blackwater_708188_1979_24000_geo', 'KY_Blaine_708191_1953_24000_geo', 'KY_Bledsoe_708195_1980_24000_geo', 'KY_Boltsfork_708203_1971_24000_geo', 'KY_Booneville_708207_1961_24000_geo', 'KY_Booneville_708209_1961_24000_geo', 'KY_Brushart_708255_1949_24000_geo', 'KY_Buckhorn_708264_1961_24000_geo', 'KY_Buckhorn_708265_1979_24000_geo', 'KY_Burnside_708284_1965_24000_geo', 'KY_Burnside_708285_1965_24000_geo', 'KY_Campton_708316_1961_24000_geo', 'KY_Coopersville_708429_1954_24000_geo', 'KY_Corbin_708431_1970_24000_geo', 'KY_Corbin_708432_1970_24000_geo', 'KY_Corbin_708433_1961_24000_geo', 'KY_Cowcreek_708447_1961_24000_geo', 'KY_Creekville_708458_1979_24000_geo', 'KY_Cutshin_708490_1980_24000_geo', 'KY_Dingus_708537_1962_24000_geo', 'KY_Dingus_803464_1962_24000_geo', 'KY_Dorton_708541_1992_24000_geo', 'KY_Dorton_708542_1954_24000_geo', 'KY_Dykes_708564_1979_24000_geo', 'KY_Fount_803532_1974_24000_geo', 'KY_Grahn_708755_1970_24000_geo', 'KY_Grahn_708756_1962_24000_geo', 'KY_Grahn_708758_1970_24000_geo', 'KY_Grayson_708765_1971_24000_geo', 'KY_Grayson_708766_1971_24000_geo', 'KY_Guage_708787_1951_24000_geo', 'KY_Haddix_708794_1972_24000_geo', 'KY_Hail_708798_1963_24000_geo', 'KY_Hail_708800_1963_24000_geo', 'KY_Harlan_708826_1954_24000_geo', 'KY_Harold_803599_1979_24000_geo', 'KY_Heidrick_803611_1974_24000_geo', 'KY_Helton_708869_1974_24000_geo', 'KY_Hima_708900_1979_24000_geo', 'KY_Hollyhill_708914_1979_24000_geo', 'KY_Hoskinston_708929_1980_24000_geo', 'KY_Isonville_708965_1962_24000_geo', 'KY_Jackson_708972_1961_24000_geo', 'KY_Johnetta_708992_1953_24000_geo', 'KY_Kayjay_709002_1959_24000_geo', 'KY_Kite_709027_1954_24000_geo', 'KY_Kite_709028_1954_24000_geo', 'KY_Krypton_709035_1972_24000_geo', 'KY_Krypton_709037_1961_24000_geo', 'KY_Lancer_709057_1978_24000_geo', 'KY_Landsaw_709058_1971_24000_geo', 'KY_Landsaw_709060_1951_24000_geo', 'KY_Lenox_709088_1977_24000_geo', 'KY_Lily_709119_1970_24000_geo', 'KY_Lily_709120_1961_24000_geo', 'KY_Livingston_803713_1969_24000_geo', 'KY_Load_709135_1953_24000_geo', 'KY_London_709141_1969_24000_geo', 'KY_Louellen_709149_1954_24000_geo', 'KY_Manchester_709218_1979_24000_geo', 'KY_Martin_709229_1954_24000_geo', 'KY_Maulden_803767_1979_24000_geo', 'KY_Mayking_709246_1954_24000_geo', 'KY_Mazie_709258_1953_24000_geo', 'KY_Meta_709277_1978_24000_geo', 'KY_Millard_709293_1978_24000_geo', 'KY_Mistletoe_709309_1979_24000_geo', 'KY_Morehead_709328_1970_24000_geo', 'KY_Nevelsville_709366_1954_24000_geo', 'KY_Nolansburg_709408_1954_24000_geo', 'KY_Offutt_709431_1954_24000_geo', 'KY_Ogle_709433_1979_24000_geo', 'KY_Oldtown_709440_1953_24000_geo', 'KY_Oneida_709453_1979_24000_geo', 'KY_Paintsville_709486_1992_24000_geo', 'KY_Paintsville_709490_1962_24000_geo', 'KY_Pikeville_709531_1978_24000_geo', 'KY_Pineville_709535_1974_24000_geo', 'KY_Portersburg_709559_1979_24000_geo', 'KY_Prestonsburg_709573_1978_24000_geo', 'KY_Redbush_709598_1962_24000_geo', 'KY_Richardson_709613_1971_24000_geo', 'KY_Richardson_709614_1971_24000_geo', 'KY_Rush_709650_1971_24000_geo', 'KY_Rush_709651_1971_24000_geo', 'KY_Saxton_709705_1970_24000_geo', 'KY_Saxton_709706_1970_24000_geo', 'KY_Scalf_709708_1979_24000_geo', 'KY_Seitz_709723_1965_24000_geo', 'KY_Shopville_709747_1952_24000_geo', 'KY_Sitka_709756_1971_24000_geo', 'KY_Thomas_709858_1954_24000_geo', 'KY_Tiptop_709862_1951_24000_geo', 'KY_Varney_709917_1954_24000_geo', 'KY_Vicco_804064_1954_24000_geo', 'KY_Vox_709945_1979_24000_geo', 'KY_Wayland_709974_1954_24000_geo', 'KY_Webbville_709977_1953_24000_geo', 'KY_Wheelwright_709992_1954_24000_geo', 'KY_Wiborg_710006_1963_24000_geo', 'KY_Willard_710015_1970_24000_geo', 'KY_Williamsburg_710018_1969_24000_geo', 'KY_Williamsburg_710019_1969_24000_geo', 'KY_Wofford_710039_1969_24000_geo', 'KY_Wofford_710041_1969_24000_geo', 'KY_Wrigley_710054_1977_24000_geo']\n"
     ]
    }
   ],
   "source": [
    "#Make list and remove file extensions\n",
    "chip_n = list()\n",
    "for c in chips:\n",
    "    c1 = os.path.basename(c)\n",
    "    c2 = os.path.splitext(c1)[0]\n",
    "    chip_n.append(c2)\n",
    "print(chip_n)"
   ]
  },
  {
   "cell_type": "code",
   "execution_count": 4,
   "metadata": {},
   "outputs": [],
   "source": [
    "#Make chips for each topo map\n",
    "for cr in chip_n:\n",
    "    #Set workspace\n",
    "    arcpy.env.workspace = in_fold + in_toposF\n",
    "    #Set local variables and make folders\n",
    "    quadNm = cr.split(\"_\")[1].replace(\" \", \"_\")\n",
    "    #os.mkdir(chips_outF + cr)\n",
    "    subdir = chips_outF + cr + \"/\"\n",
    "    out_folder= in_fold + \"processing/ky_chips4/\"\n",
    "    #Read in topo\n",
    "    inRaster = in_fold + in_toposF + cr  + \".tif\"\n",
    "    #Copy topo to 8-bit PNG\n",
    "    inRaster2 = arcpy.CopyRaster_management(inRaster, to_8bitF + cr + \".png\",\n",
    "                                \"\", \"\",256,\"NONE\",\"NONE\",\"8_BIT_UNSIGNED\",\"NONE\",\"NONE\", \"PNG\", \n",
    "                                  \"NONE\")\n",
    "    #Read in Mines\n",
    "    in_mines = in_fold + in_minesF + cr  + \".shp\"\n",
    "    in_training =  in_fold + in_minesF + cr  + \".shp\"\n",
    "    #Add and populate class value field if it doesn't already exist\n",
    "    if 'classvalue' not in [f.name for f in arcpy.ListFields(in_training)]:\n",
    "        arcpy.AddField_management(in_training, \"classvalue\", \"SHORT\")\n",
    "        arcpy.CalculateField_management(in_training, \"classvalue\", 1, \"PYTHON3\")\n",
    "    #Define image chip parameters\n",
    "    image_chip_format = \"PNG\"\n",
    "    tile_size_x = \"256\"\n",
    "    tile_size_y = \"256\"\n",
    "    stride_x= \"128\"\n",
    "    stride_y= \"128\"\n",
    "    output_nofeature_tiles= \"ONLY_TILES_WITH_FEATURES\"\n",
    "    metadata_format= \"Classified_Tiles\"\n",
    "    start_index = 0\n",
    "    classvalue_field = \"classvalue\"\n",
    "    buffer_radius = 0\n",
    "    in_mask_polygons = in_fold + in_quadsF + cr + \".shp\"\n",
    "    rotation_angle = 0\n",
    "    reference_system = \"MAP_SPACE\"\n",
    "    processing_mode = \"PROCESS_AS_MOSAICKED_IMAGE\"\n",
    "    blacken_around_feature = \"NO_BLACKEN\"\n",
    "    crop_mode = \"FIXED_SIZE\"\n",
    "\n",
    "    #Create image chips\n",
    "    ExportTrainingDataForDeepLearning(inRaster2, out_folder, in_training, \n",
    "                 image_chip_format,tile_size_x, tile_size_y, stride_x, \n",
    "                 stride_y,output_nofeature_tiles, metadata_format, start_index, \n",
    "                 classvalue_field, buffer_radius, in_mask_polygons, rotation_angle, \n",
    "                 reference_system, processing_mode, blacken_around_feature, crop_mode)"
   ]
  },
  {
   "cell_type": "code",
   "execution_count": null,
   "metadata": {},
   "outputs": [],
   "source": [
    "inRaster = \"c:/test/InputRaster.tif\"\n",
    "out_folder = \"c:/test/OutputFolder\"\n",
    "in_training = \"c:/test/TrainingData.shp\"\n",
    "image_chip_format = \"TIFF\"\n",
    "tile_size_x = \"256\"\n",
    "tile_size_y = \"256\"\n",
    "stride_x= \"128\"\n",
    "stride_y= \"128\"\n",
    "output_nofeature_tiles= \"ONLY_TILES_WITH_FEATURES\"\n",
    "metadata_format= \"Labeled_Tiles\"\n",
    "start_index = 0\n",
    "classvalue_field = \"Classvalue\"\n",
    "buffer_radius = 0\n",
    "in_mask_polygons = \"MaskPolygon\"\n",
    "rotation_angle = 0\n",
    "reference_system = \"PIXEL_SPACE\"\n",
    "processing_mode = \"PROCESS_AS_MOSAICKED_IMAGE\"\n",
    "blacken_around_feature = \"NO_BLACKEN\"\n",
    "crop_mode = “FIXED_SIZE”"
   ]
  }
 ],
 "metadata": {
  "kernelspec": {
   "display_name": "Python 3",
   "language": "python",
   "name": "python3"
  },
  "language_info": {
   "codemirror_mode": {
    "name": "ipython",
    "version": 3
   },
   "file_extension": ".py",
   "mimetype": "text/x-python",
   "name": "python",
   "nbconvert_exporter": "python",
   "pygments_lexer": "ipython3",
   "version": "3.7.9"
  }
 },
 "nbformat": 4,
 "nbformat_minor": 2
}

{
 "cells": [
  {
   "cell_type": "code",
   "execution_count": 3,
   "metadata": {},
   "outputs": [],
   "source": [
    "import glob\n",
    "import os\n",
    "import cv2"
   ]
  },
  {
   "cell_type": "code",
   "execution_count": 4,
   "metadata": {},
   "outputs": [],
   "source": [
    "IMGS_DIR = \"C:/Users/amaxwel6/Desktop/landcover/images\"\n",
    "MASKS_DIR = \"C:/Users/amaxwel6/Desktop/landcover/masks\"\n",
    "OUTPUT_DIR = \"C:/Users/amaxwel6/Desktop/landcover/output\"\n",
    "OUTPUT_DIR_IMG = \"C:/Users/amaxwel6/Desktop/landcover/output/img\"\n",
    "OUTPUT_DIR_MASK = \"C:/Users/amaxwel6/Desktop/landcover/output/mask\"\n",
    "\n",
    "TARGET_SIZE = 512\n",
    "\n",
    "img_paths = glob.glob(os.path.join(IMGS_DIR, \"*.tif\"))\n",
    "mask_paths = glob.glob(os.path.join(MASKS_DIR, \"*.tif\"))\n",
    "\n",
    "img_paths.sort()\n",
    "mask_paths.sort()\n",
    "\n",
    "os.makedirs(OUTPUT_DIR)\n",
    "os.makedirs(OUTPUT_DIR_IMG)\n",
    "os.makedirs(OUTPUT_DIR_MASK)"
   ]
  },
  {
   "cell_type": "code",
   "execution_count": 5,
   "metadata": {},
   "outputs": [
    {
     "name": "stdout",
     "output_type": "stream",
     "text": [
      "Processed M-33-20-D-c-4-2 1/41\n",
      "Processed M-33-20-D-d-3-3 2/41\n",
      "Processed M-33-32-B-b-4-4 3/41\n",
      "Processed M-33-48-A-c-4-4 4/41\n",
      "Processed M-33-7-A-d-2-3 5/41\n",
      "Processed M-33-7-A-d-3-2 6/41\n",
      "Processed M-34-32-B-a-4-3 7/41\n",
      "Processed M-34-32-B-b-1-3 8/41\n",
      "Processed M-34-5-D-d-4-2 9/41\n",
      "Processed M-34-51-C-b-2-1 10/41\n",
      "Processed M-34-51-C-d-4-1 11/41\n",
      "Processed M-34-55-B-b-4-1 12/41\n",
      "Processed M-34-56-A-b-1-4 13/41\n",
      "Processed M-34-6-A-d-2-2 14/41\n",
      "Processed M-34-65-D-a-4-4 15/41\n",
      "Processed M-34-65-D-c-4-2 16/41\n",
      "Processed M-34-65-D-d-4-1 17/41\n",
      "Processed M-34-68-B-a-1-3 18/41\n",
      "Processed M-34-77-B-c-2-3 19/41\n",
      "Processed N-33-104-A-c-1-1 20/41\n",
      "Processed N-33-119-C-c-3-3 21/41\n",
      "Processed N-33-130-A-d-3-3 22/41\n",
      "Processed N-33-130-A-d-4-4 23/41\n",
      "Processed N-33-139-C-d-2-2 24/41\n",
      "Processed N-33-139-C-d-2-4 25/41\n",
      "Processed N-33-139-D-c-1-3 26/41\n",
      "Processed N-33-60-D-c-4-2 27/41\n",
      "Processed N-33-60-D-d-1-2 28/41\n",
      "Processed N-33-96-D-d-1-1 29/41\n",
      "Processed N-34-106-A-b-3-4 30/41\n",
      "Processed N-34-106-A-c-1-3 31/41\n",
      "Processed N-34-140-A-b-3-2 32/41\n",
      "Processed N-34-140-A-b-4-2 33/41\n",
      "Processed N-34-140-A-d-3-4 34/41\n",
      "Processed N-34-140-A-d-4-2 35/41\n",
      "Processed N-34-61-B-a-1-1 36/41\n",
      "Processed N-34-66-C-c-4-3 37/41\n",
      "Processed N-34-77-A-b-1-4 38/41\n",
      "Processed N-34-94-A-b-2-4 39/41\n",
      "Processed N-34-97-C-b-1-2 40/41\n",
      "Processed N-34-97-D-c-2-4 41/41\n"
     ]
    }
   ],
   "source": [
    "for i, (img_path, mask_path) in enumerate(zip(img_paths, mask_paths)):\n",
    "    img_filename = os.path.splitext(os.path.basename(img_path))[0]\n",
    "    mask_filename = os.path.splitext(os.path.basename(mask_path))[0]\n",
    "    img = cv2.imread(img_path)\n",
    "    mask = cv2.imread(mask_path)\n",
    "\n",
    "    assert img_filename == mask_filename and img.shape[:2] == mask.shape[:2]\n",
    "\n",
    "    k = 0\n",
    "    for y in range(0, img.shape[0], TARGET_SIZE):\n",
    "        for x in range(0, img.shape[1], TARGET_SIZE):\n",
    "            img_tile = img[y:y + TARGET_SIZE, x:x + TARGET_SIZE]\n",
    "            mask_tile = mask[y:y + TARGET_SIZE, x:x + TARGET_SIZE]\n",
    "\n",
    "            if img_tile.shape[0] == TARGET_SIZE and img_tile.shape[1] == TARGET_SIZE:\n",
    "                out_img_path = os.path.join(OUTPUT_DIR_IMG, \"{}_{}.png\".format(img_filename, k))\n",
    "                cv2.imwrite(out_img_path, img_tile)\n",
    "\n",
    "                out_mask_path = os.path.join(OUTPUT_DIR_MASK, \"{}_{}_m.png\".format(mask_filename, k))\n",
    "                cv2.imwrite(out_mask_path, mask_tile)\n",
    "\n",
    "            k += 1\n",
    "\n",
    "    print(\"Processed {} {}/{}\".format(img_filename, i + 1, len(img_paths)))"
   ]
  },
  {
   "cell_type": "code",
   "execution_count": null,
   "metadata": {},
   "outputs": [],
   "source": []
  }
 ],
 "metadata": {
  "kernelspec": {
   "display_name": "Python 3",
   "language": "python",
   "name": "python3"
  },
  "language_info": {
   "codemirror_mode": {
    "name": "ipython",
    "version": 3
   },
   "file_extension": ".py",
   "mimetype": "text/x-python",
   "name": "python",
   "nbconvert_exporter": "python",
   "pygments_lexer": "ipython3",
   "version": "3.8.5"
  }
 },
 "nbformat": 4,
 "nbformat_minor": 4
}
